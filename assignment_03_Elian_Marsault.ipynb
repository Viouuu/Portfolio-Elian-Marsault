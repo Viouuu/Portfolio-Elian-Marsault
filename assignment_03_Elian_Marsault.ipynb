{
 "cells": [
  {
   "cell_type": "markdown",
   "metadata": {},
   "source": [
    "Please fill in your name and that of your teammate.\n",
    "\n",
    "You: Elian Marsault Benichon\n",
    "\n",
    "Teammate: Nathan Wilson Fouka"
   ]
  },
  {
   "cell_type": "markdown",
   "metadata": {},
   "source": [
    "# Introduction"
   ]
  },
  {
   "cell_type": "markdown",
   "metadata": {},
   "source": [
    "Welcome to the third lab. There is much to go through today so we will keep extra concepts to a minimum. There is no new library introduced at this lecture as we will keep using `numpy` for the heavy lifting, `scikit-learn` for the algorithms, and `seaborn` / `matplotlib` for plotting. Careful about reusing variable names in the notebook and computing cells out of order: frequent calls to `Kernel -> Restart and Run All` can save you from headaches.\n",
    "\n",
    "The assignment starts getting math-heavy. Here's a new tool to aid you with the debugging. Explicitly `import IPython` at the beginning of a notebook (or Python file) to have access to the computational Python kernel. You can then call `IPython.embed()` at an arbitrary place in your code (say, inside a loop) and it will pause the computation and drop you into an interactive console. You can then evaluate Python code in the context where it was called. Here is an example:\n",
    "\n",
    "```python\n",
    "import numpy as np\n",
    "for i in range(10):\n",
    "    guess = np.random.normal()\n",
    "    function_that_fails_because_of(guess, i)\n",
    "```\n",
    "\n",
    "Let's say your function fails for `i==9`, how would you find the error? Typically you may want to edit the code and print `guess` and `i` to see what is happening, but it is slow and passive. What if you want to try to pass `i+1` and see if that works? What if you want to try a few other random numbers with the same `i`? Enter `IPython.embed()`:\n",
    "\n",
    "```python\n",
    "import numpy as np\n",
    "import IPython\n",
    "for i in range(10):\n",
    "    guess = np.random.normal()\n",
    "    if i==9: IPython.embed()\n",
    "    function_that_fails_because_of(guess, i)\n",
    "```\n",
    "\n",
    "If you execute this code, the cell output will show an interactive console in your output cell. Here you can send commands to be interpreted by the Python kernel of the notebook. You could then try something like the following lines for example (one at a time):\n",
    "\n",
    "```python\n",
    "i #=> prints value of i\n",
    "guess  #=> prints value of guess\n",
    "function_that_fails_because_of(guess, i) #=> fails and shows you the error\n",
    "function_that_fails_because_of(guess, i+1) #=> change parameters: will it work?\n",
    "function_that_fails_because_of(guess, i-1) #=> what about this one?\n",
    "guess = np.random.normal() #=> overwrites the value of `guess` in the kernel\n",
    "function_that_fails_because_of(guess, i) #=> will this work this time?\n",
    "```\n",
    "\n",
    "As you can see you can test your code in the context of the function (or, here, loop), find the code that works, then you can go ahead and copy+paste in your actual code. If you need to exit the console and resume the computation (with whatever change you executed, as the kernel is the same) just type `exit()`.\n",
    "\n",
    "_Bonus:_ you can ask the kernel to drop you into a _debugger_ session every time you get an error. This can be tricky with Jupyter Notebooks, so use with caution, but can also be a lifesaver if you are willing to learn about [postmortem debugging](https://medium.com/instamojo-matters/become-a-pdb-power-user-e3fc4e2774b2). You do that by adding the following lines on top of your code (need to execute them only once):\n",
    "\n",
    "```python\n",
    "# DEBUG: uncaught exceptions drop you into ipdb for postmortem debugging\n",
    "import sys, IPython; sys.excepthook = IPython.core.ultratb.ColorTB(call_pdb=True)\n",
    "```\n",
    "\n",
    "After this line, if you encounter an error or uncaught exception in your code, rather than terminating you will be dropped in an `ipdb` (fancier version of `pdb`) console where you can interrogate the program about the conditions causing the crash.\n",
    "\n",
    "Good hunting!"
   ]
  },
  {
   "cell_type": "markdown",
   "metadata": {},
   "source": [
    "### How to pass the lab?"
   ]
  },
  {
   "cell_type": "markdown",
   "metadata": {},
   "source": [
    "Below you find the exercise questions. Each question awarding points is numbered and states the number of points like this: **[0pt]**. To answer a question, fill the cell below with your answer (markdown for text, code for implementation). Incorrect or incomplete answers are in principle worth 0 points: to assign partial reward is only up to teacher discretion. Over-complete answers do not award extra points (though they are appreciated and will be kept under consideration). Save your work frequently! (`ctrl+s`)\n",
    "\n",
    "**You need at least 22 points (out of 33 available) to pass** (66%)."
   ]
  },
  {
   "cell_type": "markdown",
   "metadata": {},
   "source": [
    "# 1. Fundamentals"
   ]
  },
  {
   "cell_type": "markdown",
   "metadata": {},
   "source": [
    "Let's make sure some of the core points are clear before addressing the specific algorithms.\n",
    "\n",
    "#### 1.1 **[1pt]** Write the equation of the Gaussian density. Use Latex inside the Markdown cell.\n",
    "\n",
    "I suggest you type it out rather than copy+paste from the Internet: the goal of this question is to _force_ you to read one term at a time, and understand which is clear to you and which is not.\n",
    "For example, the equation you will write here a norm, while our later applications of the formula do not, since we will actually be using the [Gaussian](https://en.wikipedia.org/wiki/Normal_distribution) Probability Density Function [(PDF)](https://en.wikipedia.org/wiki/Probability_density_function) equation instead. Do you understand why? Did you study this before?"
   ]
  },
  {
   "cell_type": "markdown",
   "metadata": {},
   "source": [
    "$$ p(x) = \\frac{1}{\\sqrt{2\\pi}\\sigma} \\cdot \\exp\\left(-\\frac{||x-\\mu||^2}{2\\sigma^2}\\right) $$\n",
    "\n"
   ]
  },
  {
   "cell_type": "markdown",
   "metadata": {},
   "source": [
    "#### 1.2 **[1pt]** Explain why we maximize the log-likelihood rather than the likelihood. In particular, what is the advantage in using the $\\log$ rather than another operation?"
   ]
  },
  {
   "cell_type": "markdown",
   "metadata": {},
   "source": [
    "The log-likelihood is used instead of the likelihood because it is more practical to compute the product of probabilities.  \n",
    "Multiplying probabilities yields smaller and smaller results which can cause computation errors if the results become too small.  \n",
    "The advantage of using the log instead of another operation is that the products can be converted to sums which solves the issue of results being too small."
   ]
  },
  {
   "cell_type": "markdown",
   "metadata": {},
   "source": [
    "#### 1.3 **[1pt]** Why the equation maximizing the log-likelihood of a Gaussian does not include the parameter $\\sigma$?"
   ]
  },
  {
   "cell_type": "markdown",
   "metadata": {},
   "source": [
    "In the equation, there is only one term that depends on $w$ (the last one).  \n",
    "So given the equation, when we optimize the parameter $w$ with the log-likelihood, all the other terms, including the ones with the parameter $\\sigma$, are treated as constants that can be dropped out of the equation because they do not depend on $w$.  \n",
    "\n",
    "As such, the parameter $\\sigma$ is not relevant to derive the value of $w$ that so it is not necessary to include it in the equation maximizing the log-likelihood of a Gaussian for the sake of simplifying the maximization."
   ]
  },
  {
   "cell_type": "markdown",
   "metadata": {},
   "source": [
    "#### 1.4 **[1pt]** Explain the meaning of i.i.d. (in English), using the simplest words you can."
   ]
  },
  {
   "cell_type": "markdown",
   "metadata": {},
   "source": [
    "The abbreviation i.i.d. is short for independent and identically distributed.  \n",
    "\n",
    "This applies to random variables.  \n",
    "They are independent because as probability events, their individual outcome has no impact on the other variables' outcomes. Each time we roll a dice or flip a coin, whatever result came before has no impact on the upcoming result.  \n",
    "They are identically distributed because they are generated by the same probability distribution function."
   ]
  },
  {
   "cell_type": "markdown",
   "metadata": {},
   "source": [
    "#### 1.5 **[2pt]** Write the equation of the Bayes' Rule (use Latex). Then write below how to read it in English."
   ]
  },
  {
   "cell_type": "code",
   "execution_count": null,
   "metadata": {},
   "outputs": [],
   "source": []
  },
  {
   "cell_type": "markdown",
   "metadata": {},
   "source": [
    "# 2. Linear Regression"
   ]
  },
  {
   "cell_type": "markdown",
   "metadata": {},
   "source": [
    "#### 2.1 **[2pt]** Explain the meaning of $y_i = \\langle w, x_i \\rangle + \\epsilon_i, \\;\\; \\epsilon \\sim \\mathcal{N}(0, \\sigma^2)$ (in English). Utilize the word 'prototype'."
   ]
  },
  {
   "cell_type": "markdown",
   "metadata": {},
   "source": [
    "The left term $y_i$ is the output that correspond to the input data $x_i$.\n",
    "\n",
    "It can be represent by a linear model as the right term that sums the inner product or prototype $w$ and the input $x_i$ with the Gaussian noise $\\epsilon_i$.\n",
    "\n",
    "The purpose of the prototype $w$ is to be able to classify the data by using the linear discriminant analysis (LDA) classification method. \n",
    "\n",
    "By optimizing the prototype $w$, we can linearly separate the data by classes"
   ]
  },
  {
   "cell_type": "markdown",
   "metadata": {},
   "source": [
    "Enough theory, let's get our hands in there. Since we are working with a regression task, let us generate some data from an underlying linear function with some noise.  \n",
    "_[think: the process below is (correct but) unnecessary convoluted: would you be able (yet) to simplify it? Always prefer simpler code!]_"
   ]
  },
  {
   "cell_type": "code",
   "execution_count": 1,
   "metadata": {},
   "outputs": [],
   "source": [
    "import numpy as np\n",
    "trg_fn = lambda x: 2*x - 1 # hi I'm lambda, remember me?\n",
    "some_noise = lambda: np.random.normal(0,2) # Gaussian noise with mu=0, sigma=2\n",
    "# Below we add a 1 to every row as the bias (constant) input\n",
    "# Think about each part and discuss if you do not understand something yet!\n",
    "data = np.array([[x, 1, trg_fn(x) + some_noise()] for x in np.linspace(-10, 10, 50)])\n",
    "*x, y = data.transpose() # easier using splat and numpy: do you understand it?\n",
    "x = np.array(x).transpose() # back to *rows* with input features and bias input"
   ]
  },
  {
   "cell_type": "markdown",
   "metadata": {},
   "source": [
    "#### 2.2 **[1pt]** Write a (Python) function that takes a data point in input and returns the squared error Loss. Test it by using a constant prediction model $y = 1$ and compute the Risk over all the data."
   ]
  },
  {
   "cell_type": "code",
   "execution_count": 2,
   "metadata": {},
   "outputs": [
    {
     "data": {
      "text/plain": [
       "7608.136734945889"
      ]
     },
     "execution_count": 2,
     "metadata": {},
     "output_type": "execute_result"
    }
   ],
   "source": [
    "def squared_error(y, y_hat):\n",
    "    return abs(y - y_hat)**2\n",
    "\n",
    "\n",
    "def risk (error):\n",
    "    total_risk = 0\n",
    "    for i in range (len(error)):\n",
    "        total_risk += error[i]\n",
    "    return total_risk\n",
    "\n",
    "risk(squared_error (y, 1))"
   ]
  },
  {
   "cell_type": "markdown",
   "metadata": {},
   "source": [
    "[IMPORTANT]: A few tips before we proceed:\n",
    "- Numpy's linear algebra library provides matrix inversion, but you should use instead the pseudo-inverse to cope with singular covariance matrices: `np.linalg.pinv()`\n",
    "- Numpy's array provides inner product with the function `dot()`\n",
    "- Typically `dot()` will find the right direction for one-dimensional arrays, which means that you should never need to transpose them\n",
    "- Using `dot()` with matrices instead *always* requires you to `transpose()` to the right orientation! Write the math and keep track of what you are doing.\n",
    "- Remember that matrix product is not commutative: `A.dot(B)` is NOT equal to `B.dot(A)`. Refresh also how `A.dot(B)` requires the number of columns of `A` to be the same as the number of rows of `B`, and the result will have the same number of rows of `A` and the number of columns of `B`.\n",
    "- Linear regression uses a closed-form solution, **not a loop**, and you will not use the implementation of the loss above in the rest of the assignment (because it is implicit in the algorithm's solution)."
   ]
  },
  {
   "cell_type": "markdown",
   "metadata": {},
   "source": [
    "#### 2.3 **[2pt]** Write a function that takes in input a list of data points and a list of labels, and returns the $w$ vector using the closed-form solution of Linear Regression. Test it on the data above and print the computed $w$."
   ]
  },
  {
   "cell_type": "code",
   "execution_count": 3,
   "metadata": {},
   "outputs": [
    {
     "data": {
      "text/plain": [
       "array([ 2.03475658, -1.51114558])"
      ]
     },
     "execution_count": 3,
     "metadata": {},
     "output_type": "execute_result"
    }
   ],
   "source": [
    "def find_w(data_x, labels):\n",
    "    #setup \n",
    "    x_transpose = np.transpose(data_x)\n",
    "    w = []\n",
    "    for i in range(len(data_x)):\n",
    "        w = np.linalg.pinv(x_transpose.dot(x)).dot(x_transpose).dot(labels)\n",
    "        return w\n",
    "\n",
    "find_w(x, y)"
   ]
  },
  {
   "cell_type": "markdown",
   "metadata": {},
   "source": [
    "#### 2.4 **[2pt]** Predict the labels for all points using your Linear Regression implementation and the `w` vector from the previous question. For each data point, print the triplet of  `(label, prediction, loss)`. Then compute and print the (squared error) Risk over the dataset."
   ]
  },
  {
   "cell_type": "markdown",
   "metadata": {},
   "source": [
    "Remember that you need to build the linear model (careful handling the bias), then you are doing _regression_ not *classification*, which means you are predicting the value $\\hat{y}$ based on your $x$. You should get back $m$ and $q$ close to $2$ and $-1$, and the risk roughly proportional to the square of the expected error multiplied by the number of points (or close below that).  \n",
    "_[think: what is the expected error? Do you understand why? You can generate the points and compute the risk multiple times to verify your hypothesis]_"
   ]
  },
  {
   "cell_type": "code",
   "execution_count": 4,
   "metadata": {},
   "outputs": [
    {
     "name": "stdout",
     "output_type": "stream",
     "text": [
      "label = -22.99823418051465 | prediction = -21.858711387561556 | loss = 1.2985121956596215\n",
      "label = -22.095702571477645 | prediction = -21.028198497558584 | loss = 1.1395649478337913\n",
      "label = -17.99348958635991 | prediction = -20.19768560755561 | loss = 4.85848009985495\n",
      "label = -21.214480505995407 | prediction = -19.367172717552634 | loss = 3.4125460652413295\n",
      "label = -19.443012281131477 | prediction = -18.536659827549663 | loss = 0.8214747701137742\n",
      "label = -16.310629252332962 | prediction = -17.70614693754669 | loss = 1.947469609744285\n",
      "label = -16.239888534947262 | prediction = -16.875634047543716 | loss = 0.4041723567865283\n",
      "label = -17.140965471919014 | prediction = -16.04512115754074 | loss = 1.2008747613551858\n",
      "label = -15.462116846547906 | prediction = -15.21460826753777 | loss = 0.06126049668361658\n",
      "label = -13.926246487487889 | prediction = -14.384095377534798 | loss = 0.20962560611718686\n",
      "label = -13.998421683342453 | prediction = -13.553582487531823 | loss = 0.19788191012944795\n",
      "label = -11.650900488762032 | prediction = -12.72306959752885 | loss = 1.1495465977938335\n",
      "label = -11.618466725403126 | prediction = -11.892556707525877 | loss = 0.07512531830005005\n",
      "label = -11.283745762297537 | prediction = -11.062043817522905 | loss = 0.04915175231685369\n",
      "label = -10.218831886561981 | prediction = -10.23153092751993 | loss = 0.00016126564125167875\n",
      "label = -9.085969700739348 | prediction = -9.401018037516955 | loss = 0.09925545450633684\n",
      "label = -10.32849253495316 | prediction = -8.570505147513984 | loss = 3.090519654395219\n",
      "label = -2.9270149856680723 | prediction = -7.739992257511011 | loss = 23.164750219276694\n",
      "label = -6.591578015714337 | prediction = -6.909479367508036 | loss = 0.1010612694722612\n",
      "label = -7.681219538858022 | prediction = -6.0789664775050625 | loss = 2.56721487261493\n",
      "label = -3.391050264990598 | prediction = -5.248453587502089 | loss = 3.4499471024767274\n",
      "label = -5.760198349771823 | prediction = -4.417940697499118 | loss = 1.8016556050846344\n",
      "label = -2.4884097238623957 | prediction = -3.5874278074961414 | loss = 1.207840748153991\n",
      "label = -0.8401297862483352 | prediction = -2.7569149174931686 | loss = 3.674065239361273\n",
      "label = -0.6134078249447369 | prediction = -1.9264020274901963 | loss = 1.7239537759179866\n",
      "label = -0.20438869512617985 | prediction = -1.095889137487224 | loss = 0.7947730387299373\n",
      "label = -2.9358727939527856 | prediction = -0.26537624748425137 | loss = 7.131551804700369\n",
      "label = -0.21395399428282524 | prediction = 0.5651366425187248 | loss = 0.6069822203518447\n",
      "label = 1.6125878854872526 | prediction = 1.395649532521697 | loss = 0.047062248987407955\n",
      "label = 1.899279065997118 | prediction = 2.2261624225246694 | loss = 0.10685272877471835\n",
      "label = 2.297203620888029 | prediction = 3.0566753125276453 | loss = 0.5767972504019404\n",
      "label = 3.2538027762564043 | prediction = 3.8871882025306177 | loss = 0.40117709821656694\n",
      "label = 1.1323818128928793 | prediction = 4.717701092533591 | loss = 12.854514336963394\n",
      "label = 2.6635834993187566 | prediction = 5.548213982536563 | loss = 8.321093024709395\n",
      "label = 6.2136327670707985 | prediction = 6.378726872539536 | loss = 0.027256063660522654\n",
      "label = 7.929614745493437 | prediction = 7.209239762542511 | loss = 0.5189401160615463\n",
      "label = 9.803828929973859 | prediction = 8.039752652545484 | loss = 3.111965112585552\n",
      "label = 9.85540392002765 | prediction = 8.870265542548456 | loss = 0.9704976227823384\n",
      "label = 8.746426246659356 | prediction = 9.700778432551433 | loss = 0.9107880947169854\n",
      "label = 12.29047319688511 | prediction = 10.531291322554404 | loss = 3.0947208669736943\n",
      "label = 11.74048074766311 | prediction = 11.361804212557377 | loss = 0.14339591823968315\n",
      "label = 11.537570157368613 | prediction = 12.192317102560349 | loss = 0.4286935622379099\n",
      "label = 11.343855596743987 | prediction = 13.022829992563322 | loss = 2.8189550218169006\n",
      "label = 16.597989232452026 | prediction = 13.853342882566295 | loss = 7.533083585941064\n",
      "label = 14.379172479850258 | prediction = 14.683855772569276 | loss = 0.09283190886210264\n",
      "label = 15.521127005121405 | prediction = 15.514368662572247 | loss = 4.567519401176505e-05\n",
      "label = 15.59441838535278 | prediction = 16.34488155257522 | loss = 0.5631949653575363\n",
      "label = 16.369895767344026 | prediction = 17.17539444257819 | loss = 0.6488281158039957\n",
      "label = 18.350848388094327 | prediction = 18.005907332581167 | loss = 0.11898433177853339\n",
      "label = 19.96596312281722 | prediction = 18.836420222584138 | loss = 1.2758671634669656\n",
      "Risk = 110.80496357214665\n"
     ]
    }
   ],
   "source": [
    "def my_predict(data_w, data_x, labels):\n",
    "    total_risk = 0\n",
    "    y_pred = []\n",
    "    for i in range(len(data_x)):\n",
    "        label = labels [i]\n",
    "        y_hat = np.dot(data_w, data_x[i])\n",
    "        y_pred.append(y_hat)\n",
    "        loss = squared_error(label, y_hat)\n",
    "        total_risk += loss\n",
    "        print(\"label =\", label, \"| prediction =\", y_hat, \"| loss =\", loss)\n",
    "    print( \"Risk =\", total_risk)\n",
    "    return y_pred\n",
    "\n",
    "predictions = my_predict(find_w(x, y), x, y)"
   ]
  },
  {
   "cell_type": "markdown",
   "metadata": {},
   "source": [
    "#### 2.5 **[2pt]** Plot the data and the model.\n",
    "\n",
    "You should be able to partially reuse the printing code from the last lab (particularly plot and params-to-boundary conversion), but feel free to customize it as you need.\n",
    "I will keep repeating this for a while more: careful with the bias!  \n",
    "(Think: you can plot the model's predictions very easily if you use linear algebra, do you understand what is `x.dot(w)`?)"
   ]
  },
  {
   "cell_type": "code",
   "execution_count": 5,
   "metadata": {},
   "outputs": [
    {
     "name": "stderr",
     "output_type": "stream",
     "text": [
      "/var/folders/84/zy1fp0yd17z844l7bv6bp9ww0000gn/T/ipykernel_45866/287040364.py:10: UserWarning: Ignoring `palette` because no `hue` variable has been assigned.\n",
      "  sns.scatterplot(x= original_x, y= original_y,\n"
     ]
    },
    {
     "data": {
      "text/plain": [
       "<Axes: >"
      ]
     },
     "execution_count": 5,
     "metadata": {},
     "output_type": "execute_result"
    },
    {
     "data": {
      "image/png": "[encoded data removed]",
      "text/plain": [
       "<Figure size 800x600 with 1 Axes>"
      ]
     },
     "metadata": {},
     "output_type": "display_data"
    }
   ],
   "source": [
    "%matplotlib inline\n",
    "import matplotlib.pyplot as plt\n",
    "import seaborn as sns\n",
    "sns.set(rc={'figure.figsize':(8,6)}, style=\"whitegrid\")\n",
    "\n",
    "original_x = x[:,0]\n",
    "original_y = y\n",
    "\n",
    "def todays_plot():\n",
    "    sns.scatterplot(x= original_x, y= original_y,\n",
    "      palette=sns.color_palette(['darkred', 'darkblue']),\n",
    "      s=100)\n",
    "\n",
    "todays_plot()\n",
    "sns.lineplot(x= original_x, y= predictions , color='black')"
   ]
  },
  {
   "cell_type": "markdown",
   "metadata": {},
   "source": [
    "#### 2.6 **[2pt]** Find Linear Regression in scikit-learn and train a model on the data."
   ]
  },
  {
   "cell_type": "markdown",
   "metadata": {},
   "source": [
    "The input to the `fit()` function should be a matrix and a vector, so try forcing `actual_x` into a $n\\times 1$ matrix by using `actual_x.reshape((-1, 1))`. If you want to predict the outputs, you simply need to pass the same data matrix to the method `predict()`.  "
   ]
  },
  {
   "cell_type": "code",
   "execution_count": 6,
   "metadata": {},
   "outputs": [
    {
     "name": "stdout",
     "output_type": "stream",
     "text": [
      "w = [2.0347565805072856, -1.5111455824887097]\n",
      "[-21.85871139 -21.0281985  -20.19768561 -19.36717272 -18.53665983\n",
      " -17.70614694 -16.87563405 -16.04512116 -15.21460827 -14.38409538\n",
      " -13.55358249 -12.7230696  -11.89255671 -11.06204382 -10.23153093\n",
      "  -9.40101804  -8.57050515  -7.73999226  -6.90947937  -6.07896648\n",
      "  -5.24845359  -4.4179407   -3.58742781  -2.75691492  -1.92640203\n",
      "  -1.09588914  -0.26537625   0.56513664   1.39564953   2.22616242\n",
      "   3.05667531   3.8871882    4.71770109   5.54821398   6.37872687\n",
      "   7.20923976   8.03975265   8.87026554   9.70077843  10.53129132\n",
      "  11.36180421  12.1923171   13.02282999  13.85334288  14.68385577\n",
      "  15.51436866  16.34488155  17.17539444  18.00590733  18.83642022]\n"
     ]
    }
   ],
   "source": [
    "import numpy as np\n",
    "from sklearn.linear_model import LinearRegression\n",
    "\n",
    "linear = LinearRegression()\n",
    "trained = linear.fit(x, y)\n",
    "w_skl = [trained.coef_[0], trained.intercept_]\n",
    "\n",
    "print(\"w =\", w_skl)\n",
    "\n",
    "\n",
    "print(trained.predict(x))"
   ]
  },
  {
   "cell_type": "markdown",
   "metadata": {},
   "source": [
    "#### 2.7 **[1pt]** Plot in a single figure: (i) the data points as a scatterplot; (ii) the model you learned using your implementation of Linear Regression; (iii) the model you trained using the scikit-implementation."
   ]
  },
  {
   "cell_type": "markdown",
   "metadata": {},
   "source": [
    "Careful, it may be that you plot both but they are exactly the same, so they are superimposed and you only see one line. To verify this you can try plotting them with different colors and different thickness, or changing the linestyle (e.g. one normal line and one dashed line). A list of available linestyles can be found in the [matplotlib documentation](https://matplotlib.org/3.5.1/gallery/lines_bars_and_markers/linestyles.html).\n",
    "\n",
    "To get the parametrization of the sklearn implementation use the following:  \n",
    "`w_skl = [trained.coef_[0], trained.intercept_]`  \n",
    "Do you understand what this does? Can you see how this corresponds to what we did last week? In future assignments you will need to find the model parametrization by yourself!"
   ]
  },
  {
   "cell_type": "code",
   "execution_count": 7,
   "metadata": {},
   "outputs": [
    {
     "name": "stderr",
     "output_type": "stream",
     "text": [
      "/var/folders/84/zy1fp0yd17z844l7bv6bp9ww0000gn/T/ipykernel_45866/2427437634.py:10: UserWarning: Ignoring `palette` because no `hue` variable has been assigned.\n",
      "  sns.scatterplot(x= original_x, y= original_y,\n"
     ]
    },
    {
     "data": {
      "text/plain": [
       "<Axes: >"
      ]
     },
     "execution_count": 7,
     "metadata": {},
     "output_type": "execute_result"
    },
    {
     "data": {
      "image/png": "[encoded data removed]",
      "text/plain": [
       "<Figure size 800x600 with 1 Axes>"
      ]
     },
     "metadata": {},
     "output_type": "display_data"
    }
   ],
   "source": [
    "%matplotlib inline\n",
    "import matplotlib.pyplot as plt\n",
    "import seaborn as sns\n",
    "sns.set(rc={'figure.figsize':(8,6)}, style=\"whitegrid\")\n",
    "\n",
    "original_x = x[:,0]\n",
    "original_y = y\n",
    "\n",
    "def todays_plot():\n",
    "    sns.scatterplot(x= original_x, y= original_y,\n",
    "      palette=sns.color_palette(['darkblue']),\n",
    "      s=100)\n",
    "\n",
    "todays_plot()\n",
    "sns.lineplot(x= original_x, y= predictions , color='black', label = \"My prédictions\")\n",
    "sns.lineplot(x= original_x, y= trained.predict(x), color='red', linestyle = 'dotted', label = \"trained model\")"
   ]
  },
  {
   "cell_type": "markdown",
   "metadata": {},
   "source": [
    "# 3. Linear Discriminant Analysis"
   ]
  },
  {
   "cell_type": "markdown",
   "metadata": {},
   "source": [
    "We switch now into *binary classification*. Let's load the iris dataset once again for this exercise, and carefully selecting the data to have an easy binary classification problem (for now). Notice we are **not** using classes ${-1, +1}$ anymore, because we do not need to compute a Margin here."
   ]
  },
  {
   "cell_type": "code",
   "execution_count": 8,
   "metadata": {},
   "outputs": [],
   "source": [
    "import numpy as np\n",
    "from sklearn.datasets import load_iris\n",
    "iris_x, iris_y = load_iris(return_X_y=True) # print these points to understand them!\n",
    "x1 = np.array([r[0] for r in iris_x]) # first feature\n",
    "x2 = np.array([r[2] for r in iris_x]) # third feature\n",
    "\n",
    "x = np.array([x1, x2]).transpose() # numpy gives us transpose() for free\n",
    "# Reduce the three classes into two for binary classification {1, 2}\n",
    "y = np.array([1 if y in [1,2] else 2 for y in iris_y])\n"
   ]
  },
  {
   "cell_type": "markdown",
   "metadata": {},
   "source": [
    "To solve LDA we need to find the parametrization $\\theta_y=(\\mu_y, \\Sigma, \\pi_y)$. Since $\\mu$ and $\\pi$ are class-dependent, remember to first split the input data based on which class it belongs to."
   ]
  },
  {
   "cell_type": "markdown",
   "metadata": {},
   "source": [
    "#### 3.1 **[1pt]** Write a (Python) function that takes a dataset (inputs and labels) in input and returns a dictionary hashing each of the $m$ classes to the a list of the points belonging to that class. We will call this `partition` in the next questions."
   ]
  },
  {
   "cell_type": "markdown",
   "metadata": {},
   "source": [
    "Hint: the method `dict.get(<key>, <def>)` can be used to fetch values from a dictionary same as `dict[<key>]`, but when the key is not found it returns the second argument, which is the _default value_... what if you pass an empty list..."
   ]
  },
  {
   "cell_type": "code",
   "execution_count": 9,
   "metadata": {},
   "outputs": [
    {
     "data": {
      "text/plain": [
       "{2: [array([5.1, 1.4]),\n",
       "  array([4.9, 1.4]),\n",
       "  array([4.7, 1.3]),\n",
       "  array([4.6, 1.5]),\n",
       "  array([5. , 1.4]),\n",
       "  array([5.4, 1.7]),\n",
       "  array([4.6, 1.4]),\n",
       "  array([5. , 1.5]),\n",
       "  array([4.4, 1.4]),\n",
       "  array([4.9, 1.5]),\n",
       "  array([5.4, 1.5]),\n",
       "  array([4.8, 1.6]),\n",
       "  array([4.8, 1.4]),\n",
       "  array([4.3, 1.1]),\n",
       "  array([5.8, 1.2]),\n",
       "  array([5.7, 1.5]),\n",
       "  array([5.4, 1.3]),\n",
       "  array([5.1, 1.4]),\n",
       "  array([5.7, 1.7]),\n",
       "  array([5.1, 1.5]),\n",
       "  array([5.4, 1.7]),\n",
       "  array([5.1, 1.5]),\n",
       "  array([4.6, 1. ]),\n",
       "  array([5.1, 1.7]),\n",
       "  array([4.8, 1.9]),\n",
       "  array([5. , 1.6]),\n",
       "  array([5. , 1.6]),\n",
       "  array([5.2, 1.5]),\n",
       "  array([5.2, 1.4]),\n",
       "  array([4.7, 1.6]),\n",
       "  array([4.8, 1.6]),\n",
       "  array([5.4, 1.5]),\n",
       "  array([5.2, 1.5]),\n",
       "  array([5.5, 1.4]),\n",
       "  array([4.9, 1.5]),\n",
       "  array([5. , 1.2]),\n",
       "  array([5.5, 1.3]),\n",
       "  array([4.9, 1.4]),\n",
       "  array([4.4, 1.3]),\n",
       "  array([5.1, 1.5]),\n",
       "  array([5. , 1.3]),\n",
       "  array([4.5, 1.3]),\n",
       "  array([4.4, 1.3]),\n",
       "  array([5. , 1.6]),\n",
       "  array([5.1, 1.9]),\n",
       "  array([4.8, 1.4]),\n",
       "  array([5.1, 1.6]),\n",
       "  array([4.6, 1.4]),\n",
       "  array([5.3, 1.5]),\n",
       "  array([5. , 1.4])],\n",
       " 1: [array([7. , 4.7]),\n",
       "  array([6.4, 4.5]),\n",
       "  array([6.9, 4.9]),\n",
       "  array([5.5, 4. ]),\n",
       "  array([6.5, 4.6]),\n",
       "  array([5.7, 4.5]),\n",
       "  array([6.3, 4.7]),\n",
       "  array([4.9, 3.3]),\n",
       "  array([6.6, 4.6]),\n",
       "  array([5.2, 3.9]),\n",
       "  array([5. , 3.5]),\n",
       "  array([5.9, 4.2]),\n",
       "  array([6., 4.]),\n",
       "  array([6.1, 4.7]),\n",
       "  array([5.6, 3.6]),\n",
       "  array([6.7, 4.4]),\n",
       "  array([5.6, 4.5]),\n",
       "  array([5.8, 4.1]),\n",
       "  array([6.2, 4.5]),\n",
       "  array([5.6, 3.9]),\n",
       "  array([5.9, 4.8]),\n",
       "  array([6.1, 4. ]),\n",
       "  array([6.3, 4.9]),\n",
       "  array([6.1, 4.7]),\n",
       "  array([6.4, 4.3]),\n",
       "  array([6.6, 4.4]),\n",
       "  array([6.8, 4.8]),\n",
       "  array([6.7, 5. ]),\n",
       "  array([6. , 4.5]),\n",
       "  array([5.7, 3.5]),\n",
       "  array([5.5, 3.8]),\n",
       "  array([5.5, 3.7]),\n",
       "  array([5.8, 3.9]),\n",
       "  array([6. , 5.1]),\n",
       "  array([5.4, 4.5]),\n",
       "  array([6. , 4.5]),\n",
       "  array([6.7, 4.7]),\n",
       "  array([6.3, 4.4]),\n",
       "  array([5.6, 4.1]),\n",
       "  array([5.5, 4. ]),\n",
       "  array([5.5, 4.4]),\n",
       "  array([6.1, 4.6]),\n",
       "  array([5.8, 4. ]),\n",
       "  array([5. , 3.3]),\n",
       "  array([5.6, 4.2]),\n",
       "  array([5.7, 4.2]),\n",
       "  array([5.7, 4.2]),\n",
       "  array([6.2, 4.3]),\n",
       "  array([5.1, 3. ]),\n",
       "  array([5.7, 4.1]),\n",
       "  array([6.3, 6. ]),\n",
       "  array([5.8, 5.1]),\n",
       "  array([7.1, 5.9]),\n",
       "  array([6.3, 5.6]),\n",
       "  array([6.5, 5.8]),\n",
       "  array([7.6, 6.6]),\n",
       "  array([4.9, 4.5]),\n",
       "  array([7.3, 6.3]),\n",
       "  array([6.7, 5.8]),\n",
       "  array([7.2, 6.1]),\n",
       "  array([6.5, 5.1]),\n",
       "  array([6.4, 5.3]),\n",
       "  array([6.8, 5.5]),\n",
       "  array([5.7, 5. ]),\n",
       "  array([5.8, 5.1]),\n",
       "  array([6.4, 5.3]),\n",
       "  array([6.5, 5.5]),\n",
       "  array([7.7, 6.7]),\n",
       "  array([7.7, 6.9]),\n",
       "  array([6., 5.]),\n",
       "  array([6.9, 5.7]),\n",
       "  array([5.6, 4.9]),\n",
       "  array([7.7, 6.7]),\n",
       "  array([6.3, 4.9]),\n",
       "  array([6.7, 5.7]),\n",
       "  array([7.2, 6. ]),\n",
       "  array([6.2, 4.8]),\n",
       "  array([6.1, 4.9]),\n",
       "  array([6.4, 5.6]),\n",
       "  array([7.2, 5.8]),\n",
       "  array([7.4, 6.1]),\n",
       "  array([7.9, 6.4]),\n",
       "  array([6.4, 5.6]),\n",
       "  array([6.3, 5.1]),\n",
       "  array([6.1, 5.6]),\n",
       "  array([7.7, 6.1]),\n",
       "  array([6.3, 5.6]),\n",
       "  array([6.4, 5.5]),\n",
       "  array([6. , 4.8]),\n",
       "  array([6.9, 5.4]),\n",
       "  array([6.7, 5.6]),\n",
       "  array([6.9, 5.1]),\n",
       "  array([5.8, 5.1]),\n",
       "  array([6.8, 5.9]),\n",
       "  array([6.7, 5.7]),\n",
       "  array([6.7, 5.2]),\n",
       "  array([6.3, 5. ]),\n",
       "  array([6.5, 5.2]),\n",
       "  array([6.2, 5.4]),\n",
       "  array([5.9, 5.1])]}"
      ]
     },
     "execution_count": 9,
     "metadata": {},
     "output_type": "execute_result"
    }
   ],
   "source": [
    "#V1\n",
    "\n",
    "def partition(input_x, label_y):\n",
    "    hashing_dictionary = {}\n",
    "\n",
    "    for i in range(len(input_x)):\n",
    "        input = input_x[i]\n",
    "        label = label_y[i]\n",
    "\n",
    "        if label not in hashing_dictionary:\n",
    "            hashing_dictionary[label] = []\n",
    "\n",
    "        hashing_dictionary[label].append(input)\n",
    "\n",
    "    return hashing_dictionary\n",
    "\n",
    "partition_variable = partition(x,y)\n",
    "partition_variable"
   ]
  },
  {
   "cell_type": "code",
   "execution_count": 10,
   "metadata": {},
   "outputs": [
    {
     "name": "stdout",
     "output_type": "stream",
     "text": [
      "{2: [[5.1, 1.4], [4.9, 1.4], [4.7, 1.3], [4.6, 1.5], [5.0, 1.4], [5.4, 1.7], [4.6, 1.4], [5.0, 1.5], [4.4, 1.4], [4.9, 1.5], [5.4, 1.5], [4.8, 1.6], [4.8, 1.4], [4.3, 1.1], [5.8, 1.2], [5.7, 1.5], [5.4, 1.3], [5.1, 1.4], [5.7, 1.7], [5.1, 1.5], [5.4, 1.7], [5.1, 1.5], [4.6, 1.0], [5.1, 1.7], [4.8, 1.9], [5.0, 1.6], [5.0, 1.6], [5.2, 1.5], [5.2, 1.4], [4.7, 1.6], [4.8, 1.6], [5.4, 1.5], [5.2, 1.5], [5.5, 1.4], [4.9, 1.5], [5.0, 1.2], [5.5, 1.3], [4.9, 1.4], [4.4, 1.3], [5.1, 1.5], [5.0, 1.3], [4.5, 1.3], [4.4, 1.3], [5.0, 1.6], [5.1, 1.9], [4.8, 1.4], [5.1, 1.6], [4.6, 1.4], [5.3, 1.5], [5.0, 1.4]], 1: [[7.0, 4.7], [6.4, 4.5], [6.9, 4.9], [5.5, 4.0], [6.5, 4.6], [5.7, 4.5], [6.3, 4.7], [4.9, 3.3], [6.6, 4.6], [5.2, 3.9], [5.0, 3.5], [5.9, 4.2], [6.0, 4.0], [6.1, 4.7], [5.6, 3.6], [6.7, 4.4], [5.6, 4.5], [5.8, 4.1], [6.2, 4.5], [5.6, 3.9], [5.9, 4.8], [6.1, 4.0], [6.3, 4.9], [6.1, 4.7], [6.4, 4.3], [6.6, 4.4], [6.8, 4.8], [6.7, 5.0], [6.0, 4.5], [5.7, 3.5], [5.5, 3.8], [5.5, 3.7], [5.8, 3.9], [6.0, 5.1], [5.4, 4.5], [6.0, 4.5], [6.7, 4.7], [6.3, 4.4], [5.6, 4.1], [5.5, 4.0], [5.5, 4.4], [6.1, 4.6], [5.8, 4.0], [5.0, 3.3], [5.6, 4.2], [5.7, 4.2], [5.7, 4.2], [6.2, 4.3], [5.1, 3.0], [5.7, 4.1], [6.3, 6.0], [5.8, 5.1], [7.1, 5.9], [6.3, 5.6], [6.5, 5.8], [7.6, 6.6], [4.9, 4.5], [7.3, 6.3], [6.7, 5.8], [7.2, 6.1], [6.5, 5.1], [6.4, 5.3], [6.8, 5.5], [5.7, 5.0], [5.8, 5.1], [6.4, 5.3], [6.5, 5.5], [7.7, 6.7], [7.7, 6.9], [6.0, 5.0], [6.9, 5.7], [5.6, 4.9], [7.7, 6.7], [6.3, 4.9], [6.7, 5.7], [7.2, 6.0], [6.2, 4.8], [6.1, 4.9], [6.4, 5.6], [7.2, 5.8], [7.4, 6.1], [7.9, 6.4], [6.4, 5.6], [6.3, 5.1], [6.1, 5.6], [7.7, 6.1], [6.3, 5.6], [6.4, 5.5], [6.0, 4.8], [6.9, 5.4], [6.7, 5.6], [6.9, 5.1], [5.8, 5.1], [6.8, 5.9], [6.7, 5.7], [6.7, 5.2], [6.3, 5.0], [6.5, 5.2], [6.2, 5.4], [5.9, 5.1]]}\n",
      "2\n"
     ]
    }
   ],
   "source": [
    "#V2\n",
    "\n",
    "def find_partition (data_x, labels):\n",
    "    partition0 = {}\n",
    "    for i in range(len(y)):\n",
    "        if y[i] not in partition0:\n",
    "            partition0 [y[i]] = []\n",
    "        partition0.get(y[i]).append([x[i][0], x[i][1]])\n",
    "    return partition0\n",
    "\n",
    "partition = find_partition(x, y)\n",
    "\n",
    "print(partition)\n",
    "print(len(partition))    "
   ]
  },
  {
   "cell_type": "markdown",
   "metadata": {},
   "source": [
    "#### 3.2 **[1pt]** Write a function that takes the `partition` in input and returns a dictionary hashing each class to its corresponding prototype $\\mu_y$."
   ]
  },
  {
   "cell_type": "markdown",
   "metadata": {},
   "source": [
    "Hint: function `dict.items()` returns a list of pairs `(key, value)` from the dictionary.\n",
    "Then a _dictionary comprehension_ works same as a list comprehension, with a `for` loop that generates elements. Only this time you need to pass both a key and a value like this:\n",
    "```python\n",
    "d = { the_key: compute_value(a, b) for a, b in another_dict.items() }\n",
    "```\n",
    "If you can use that then the answer is basically one line. If it is complicated instead, write explicit `for` loops, which are exactly equivalent (and perhaps even more readable:\n",
    "```python\n",
    "d = {}\n",
    "for a, b in another_dict.items():\n",
    "    d[the_key] = compute_value(a, b)\n",
    "```\n",
    "Just find a style that is comfortable with you. May take a few weeks but you will get there."
   ]
  },
  {
   "cell_type": "code",
   "execution_count": 11,
   "metadata": {},
   "outputs": [
    {
     "data": {
      "text/plain": [
       "{2: [5.005999999999999, 1.4620000000000002],\n",
       " 1: [6.261999999999998, 4.906000000000001]}"
      ]
     },
     "execution_count": 11,
     "metadata": {},
     "output_type": "execute_result"
    }
   ],
   "source": [
    "#V1\n",
    "\n",
    "def mean_prototype(partition):\n",
    "    prototype_dictionary = {}\n",
    "\n",
    "    for cat_label, cat_input in partition.items():\n",
    "        sum = [0 for _ in range(len(cat_input[0]))]\n",
    "        num_input = 0\n",
    "\n",
    "        for input in cat_input:\n",
    "            for i in range(len(input)):\n",
    "                sum[i] += input[i]\n",
    "            num_input += 1\n",
    "\n",
    "        mean = [x / num_input for x in sum]\n",
    "        prototype_dictionary[cat_label] = mean\n",
    "\n",
    "    return prototype_dictionary\n",
    "\n",
    "means_variable = mean_prototype(partition_variable)\n",
    "means_variable"
   ]
  },
  {
   "cell_type": "code",
   "execution_count": 12,
   "metadata": {},
   "outputs": [
    {
     "data": {
      "text/plain": [
       "{2: [5.005999999999999, 1.4620000000000002],\n",
       " 1: [6.261999999999998, 4.906000000000001]}"
      ]
     },
     "execution_count": 12,
     "metadata": {},
     "output_type": "execute_result"
    }
   ],
   "source": [
    "#V2\n",
    "\n",
    "def calcul_mean(dict):\n",
    "    means = {}\n",
    "    for key,value in dict.items():\n",
    "        sum_x1 = sum(point[0] for point in value)\n",
    "        sum_x2 = sum(point[1] for point in value)\n",
    "        mean_1 = sum_x1/len(value)\n",
    "        mean_2 = sum_x2/len(value)\n",
    "        means [key] = [mean_1, mean_2]\n",
    "    return means\n",
    "    \n",
    "calcul_mean(partition)\n",
    "\n"
   ]
  },
  {
   "cell_type": "markdown",
   "metadata": {},
   "source": [
    "#### 3.3 **[1pt]** Write a function that takes the `partition` in input and returns a dictionary hashing each class to its corresponding prior $\\pi_y$."
   ]
  },
  {
   "cell_type": "code",
   "execution_count": 13,
   "metadata": {},
   "outputs": [
    {
     "data": {
      "text/plain": [
       "{2: 0.3333333333333333, 1: 0.6666666666666666}"
      ]
     },
     "execution_count": 13,
     "metadata": {},
     "output_type": "execute_result"
    }
   ],
   "source": [
    "#V1\n",
    "\n",
    "def prior_probability(partition):\n",
    "    priors_dictionary = {}\n",
    "\n",
    "    for cat_label, cat_input in partition.items():\n",
    "        prior = len(cat_input) / len(x)\n",
    "        priors_dictionary[cat_label] = prior\n",
    "\n",
    "    return priors_dictionary\n",
    "\n",
    "priors_variable = prior_probability(partition_variable)\n",
    "priors_variable"
   ]
  },
  {
   "cell_type": "code",
   "execution_count": 14,
   "metadata": {},
   "outputs": [
    {
     "data": {
      "text/plain": [
       "{2: 0.3333333333333333, 1: 0.6666666666666666}"
      ]
     },
     "execution_count": 14,
     "metadata": {},
     "output_type": "execute_result"
    }
   ],
   "source": [
    "#V2\n",
    "\n",
    "def calcul_prior(dict):\n",
    "    prior = {}\n",
    "    n_total = 0\n",
    "    for key,value in dict.items():\n",
    "        n_total += len(value)\n",
    "    for key,value in dict.items():\n",
    "        prior [key] = len(value)/n_total\n",
    "    return prior\n",
    "\n",
    "calcul_prior(partition)"
   ]
  },
  {
   "cell_type": "markdown",
   "metadata": {},
   "source": [
    "3.4 **[4pt]** Write a function that takes the `partition` in input and the class-wise center estimates (the means from above) and returns the corresponding $\\Sigma$ (one for all classes and all inputs).\n",
    "You may need to use `np.concatenate()` to join the $x_i - \\hat{\\mu}_{y_i}$ from each class. Print the `array.shape` (property not method so no `()`) to verify if your linear algebra is on point so far: the covariance matrix between all inputs should have as many rows (and columns) as the number of features (hint: that's 2). Example: `assert sigma.shape == (2,2)` should not raise an error."
   ]
  },
  {
   "cell_type": "code",
   "execution_count": 15,
   "metadata": {},
   "outputs": [
    {
     "data": {
      "text/plain": [
       "array([[0.33055867, 0.30456133],\n",
       "       [0.30456133, 0.45969467]])"
      ]
     },
     "execution_count": 15,
     "metadata": {},
     "output_type": "execute_result"
    }
   ],
   "source": [
    "#V1\n",
    "\n",
    "def covariance(partition, means):\n",
    "\n",
    "    total_difference = []\n",
    "\n",
    "    for cat_label in partition:\n",
    "        cat_input = np.array(partition[cat_label])\n",
    "        cat_mean = np.array(means[cat_label])\n",
    "        difference = cat_input - cat_mean\n",
    "        total_difference.extend(difference)\n",
    "\n",
    "    total_difference = np.array(total_difference)\n",
    "    covariance_matrix = np.zeros((2, 2))\n",
    "\n",
    "    for difference in total_difference:\n",
    "        covariance_matrix[0, 0] += difference[0] * difference[0]\n",
    "        covariance_matrix[0, 1] += difference[0] * difference[1]\n",
    "        covariance_matrix[1, 0] += difference[1] * difference[0]\n",
    "        covariance_matrix[1, 1] += difference[1] * difference[1]\n",
    "\n",
    "    covariance_matrix /= len(total_difference)\n",
    "\n",
    "    assert covariance_matrix.shape == (2, 2)\n",
    "    return covariance_matrix\n",
    "\n",
    "covariance_variable = covariance(partition_variable, means_variable)\n",
    "covariance_variable"
   ]
  },
  {
   "cell_type": "markdown",
   "metadata": {},
   "source": [
    "#### 3.5 **[5pt]** Write the function for the decision boundary of LDA $f(x)$."
   ]
  },
  {
   "cell_type": "markdown",
   "metadata": {},
   "source": [
    "You can find the logarithm in the `math` module: `from math import log` then just `l = log(a)`. You need to implement the equations for $w$ and $q$ from the slides: this cell will be very math heavy, be careful though and you should be able to get it right in few lines. Remember to check for the shape of $w$ and $b$ to verify if your matrix products are computed the right way. You want $w$ to be of length 2, and $b$ is a scalar."
   ]
  },
  {
   "cell_type": "code",
   "execution_count": 16,
   "metadata": {},
   "outputs": [
    {
     "name": "stdout",
     "output_type": "stream",
     "text": [
      "[-7.96528842 12.76916894]\n",
      "4.9125482079509135\n"
     ]
    }
   ],
   "source": [
    "#V1\n",
    "\n",
    "def decision_boundary(covariance, means, priors):\n",
    "\n",
    "    inverse_covariance = np.linalg.inv(covariance)\n",
    "    mean1 = np.array(means[1])\n",
    "    mean2 = np.array(means[2])\n",
    "\n",
    "    w = np.dot(inverse_covariance, mean1 - mean2)\n",
    "\n",
    "    q = -0.5 * np.dot(np.dot((mean1 + mean2).T, inverse_covariance), mean1 - mean2) + np.log(priors[1] / priors[2])\n",
    "\n",
    "    return w, q\n",
    "\n",
    "w, b = decision_boundary(covariance_variable, means_variable, priors_variable)\n",
    "print(w)\n",
    "print(b)"
   ]
  },
  {
   "cell_type": "markdown",
   "metadata": {},
   "source": [
    "#### 3.6 **[2pt]** Plot the LDA decision boundary on top of the data."
   ]
  },
  {
   "cell_type": "markdown",
   "metadata": {},
   "source": [
    "- Notice that we are using different data from the Linear Regression questions above, and that our model now generated $w$ and $b$ separately, so you **need** to adapt the plotting functions -- actually it's quicker to just rewrite them.\n",
    "- Plotting is one of few applications where generalizing your code just makes for a stunted replica of the original (better) interface, so specialize when needed but for different applications just write a new one rather than reusing your code.\n",
    "- Remember that we already had a good plotting function for a classification problem just last week, why don't you check it out again?\n",
    "- Finally, remember that you already have code that converts a parametrization from $w$ and $b$ to $m$ and $q$ (last assignment), you can simply copy+paste it here to simplify your generation of the model's points."
   ]
  },
  {
   "cell_type": "code",
   "execution_count": 17,
   "metadata": {},
   "outputs": [
    {
     "name": "stdout",
     "output_type": "stream",
     "text": [
      "m: 0.6237906674023634, q: -0.3847194935007171\n"
     ]
    },
    {
     "data": {
      "image/png": "[encoded data removed]",
      "text/plain": [
       "<Figure size 800x600 with 1 Axes>"
      ]
     },
     "metadata": {},
     "output_type": "display_data"
    }
   ],
   "source": [
    "#V1\n",
    "\n",
    "def wb2mq(w, b):\n",
    "    assert len(w) == 2, \"This implementation only works in 2D\"\n",
    "    assert w[0] != 0 and w[1] != 0 and b != 0 # avoid edge cases for now\n",
    "    return [w[0]/-w[1], b/-w[1]] # m and q\n",
    "\n",
    "def params2boundary(w, b):\n",
    "    m, q = wb2mq(w, b)\n",
    "    print(f\"m: {m}, q: {q}\")\n",
    "    return lambda x: m*x + q\n",
    "\n",
    "def lda_plot(x, y, w, b):\n",
    "\n",
    "    for input, label in zip(x, y):\n",
    "        if label == 1:\n",
    "            plt.scatter(input[0], input[1], color=\"blue\")\n",
    "        else:\n",
    "            plt.scatter(input[0], input[1], color=\"red\")\n",
    "\n",
    "    x_var = np.linspace(x[:, 0].min(), x[:, 0].max(), 100)\n",
    "    lda_boundary = params2boundary(w, b)\n",
    "    y_var = lda_boundary(x_var)\n",
    "    plt.plot(x_var, y_var)\n",
    "\n",
    "    plt.show()\n",
    "\n",
    "lda_plot(x, y, w, b)"
   ]
  },
  {
   "cell_type": "markdown",
   "metadata": {},
   "source": [
    "#### 3.7 **[1pt]** Find LDA on scikit-learn; train a model on the data and add it to the print above (data + model from your implementation)."
   ]
  },
  {
   "cell_type": "markdown",
   "metadata": {},
   "source": [
    "You ned to pass the correct `solver` parameter to the sklearn constructor, check the documentation to understand what I mean. If you do not the result should still look exactly the same as your implementation (because the data is linearly separable), but you should be aware of which technique your library uses and we have not gotten to SVD yet.  \n",
    "Remember to make sure that you can distinguish the two boundaries even if they overlap (e.g. use different colors). If you use our conversions from last exercise you should also see the printed values of $m$ and $q$ and they are likely to differ in the least significant digits even though the graph looks the same.  \n",
    "Also consider that LDA is a **multiclass method**, and so its parametrization is in principle a list for the many boundaries: you need to access the coefficients of the _first_ (and here, only) boundary using `[trained_model.coef_[0], trained_model.intercept_[0]]`."
   ]
  },
  {
   "cell_type": "code",
   "execution_count": 18,
   "metadata": {},
   "outputs": [
    {
     "name": "stdout",
     "output_type": "stream",
     "text": [
      "m: 0.6237906674023634, q: -0.3847194935007171\n",
      "m: 0.6237906674023642, q: -0.38545304584336726\n"
     ]
    },
    {
     "data": {
      "image/png": "[encoded data removed]",
      "text/plain": [
       "<Figure size 800x600 with 1 Axes>"
      ]
     },
     "metadata": {},
     "output_type": "display_data"
    }
   ],
   "source": [
    "#V1\n",
    "\n",
    "from sklearn.discriminant_analysis import LinearDiscriminantAnalysis\n",
    "\n",
    "lda = LinearDiscriminantAnalysis(solver=\"svd\")\n",
    "lda.fit(x,y)\n",
    "\n",
    "w_lda = lda.coef_[0]\n",
    "b_lda = lda.intercept_[0]\n",
    "\n",
    "def wb2mq(w, b):\n",
    "    assert len(w) == 2, \"This implementation only works in 2D\"\n",
    "    assert w[0] != 0 and w[1] != 0 and b != 0 # avoid edge cases for now\n",
    "    return [w[0]/-w[1], b/-w[1]] # m and q\n",
    "\n",
    "def params2boundary(w, b):\n",
    "    m, q = wb2mq(w, b)\n",
    "    print(f\"m: {m}, q: {q}\")\n",
    "    return lambda x: m*x + q\n",
    "\n",
    "def lda_scikit_plot(x, y, w, b, w_lda, b_lda):\n",
    "\n",
    "    for input, label in zip(x, y):\n",
    "        if label == 1:\n",
    "            plt.scatter(input[0], input[1], color=\"blue\")\n",
    "        else:\n",
    "            plt.scatter(input[0], input[1], color=\"orange\")\n",
    "\n",
    "    x_var = np.linspace(x[:, 0].min(), x[:, 0].max(), 100)\n",
    "    lda_boundary = params2boundary(w, b)\n",
    "    y_var = lda_boundary(x_var)\n",
    "    plt.plot(x_var, y_var, color=\"red\")\n",
    "\n",
    "    lda_scikit_boundary = params2boundary(w_lda, b_lda)\n",
    "    y_scikit_var = lda_scikit_boundary(x_var)\n",
    "    plt.plot(x_var, y_scikit_var, color=\"green\", linestyle=\"dashed\")\n",
    "\n",
    "    plt.show()\n",
    "\n",
    "lda_scikit_plot(x, y, w, b, w_lda, b_lda)"
   ]
  },
  {
   "cell_type": "markdown",
   "metadata": {},
   "source": [
    "## At the end of the exercise"
   ]
  },
  {
   "cell_type": "markdown",
   "metadata": {},
   "source": [
    "Bonus question reward no points! Answering this will have no influence on your scoring, not at the assignment and not towards the exam score. But solving it will reward you with skills that will make the next lectures easier, give you real applications, and will be very good practice towards the exam.\n",
    "\n",
    "The solution for this questions will not be included in the regular lab solutions pdf, but you are welcome to open a discussion on the Moodle: we will support your addressing it, and you may meet other students that choose to solve this, and find a teammate for the next assignment that is willing to do things for fun and not only for score :)"
   ]
  },
  {
   "cell_type": "markdown",
   "metadata": {},
   "source": [
    "Let's see some multiclass classification. Copy the code loading the Iris dataset, you want to extract the same features (so you can plot in 2D), but keep the three classes.  \n",
    "_[think: does it matter what label does each class have? Could you use strings such as `['a', 'b', 'c']`?]_  \n",
    "Then run the scikit-learn LDA on the data to obtain a trained model. At this point you can open up the trained coefficients again, and rather than taking only the first like you did with `[trained.coef_[0], trained.intercept_[0]]`, you should have TWO $w$ vectors and TWO $b$ constants **per each pair** of classes.\n",
    "_[think: the space is actually split in several subspaces. Can you derive how many? Can you design a decision tree on top of the boundaries to do the classification as the number of boundaries grow?]_"
   ]
  },
  {
   "cell_type": "markdown",
   "metadata": {},
   "source": [
    "#### BONUS **[ZERO pt]** Plot the boundaries classifying the three species of Iris in the dataset based on the two features used so far."
   ]
  },
  {
   "cell_type": "code",
   "execution_count": null,
   "metadata": {},
   "outputs": [],
   "source": []
  },
  {
   "cell_type": "markdown",
   "metadata": {},
   "source": [
    "### Final considerations"
   ]
  },
  {
   "cell_type": "code",
   "execution_count": 6,
   "metadata": {},
   "outputs": [
    {
     "ename": "SyntaxError",
     "evalue": "invalid syntax (26425638.py, line 1)",
     "output_type": "error",
     "traceback": [
      "\u001b[0;36m  Cell \u001b[0;32mIn[6], line 1\u001b[0;36m\u001b[0m\n\u001b[0;31m    $$ y_i = \\langle w , x_i \\rangle + \\epsilon_i $$\u001b[0m\n\u001b[0m    ^\u001b[0m\n\u001b[0;31mSyntaxError\u001b[0m\u001b[0;31m:\u001b[0m invalid syntax\n"
     ]
    }
   ],
   "source": []
  },
  {
   "cell_type": "markdown",
   "metadata": {},
   "source": [
    "Stop for a moment and think how hard it was to derive these equations (in the lecture), and how hard it was instead to implement them (once you get them right). These are two very different skills.  \n",
    "To understand the derivation you need to think hard, express your concept in math (actually requiring broad knowledge of many of its subfields), see it through with absolute precision, and finally correctly solve the equations.  \n",
    "To implement the method, you need to map the math to the correct function calls (hard, but arguably less), and you only ever work with the final solution, but you deal with programming languages and libraries and documentations.  \n",
    "This is the reason why so many people nowadays broadly advertise machine learning skills after taking short tutorials. But if you do not understand what a parameter is for, you will only be guessing which value to use.\n",
    "\n",
    "The reason why you are sweating so much on this course is to gain an edge over all of those who only ever learn to _use_ the tools: by instead _making_ the tools you understand them from the inside out, their applications and limitations, and even become capable of adapting and improving them.  \n",
    "Keep up: this course is not easy, but machine learning has become unavoidable in your field, and these foundations will enable you to bend the whole field to your needs."
   ]
  }
 ],
 "metadata": {
  "kernelspec": {
   "display_name": "Python 3 (ipykernel)",
   "language": "python",
   "name": "python3"
  },
  "language_info": {
   "codemirror_mode": {
    "name": "ipython",
    "version": 3
   },
   "file_extension": ".py",
   "mimetype": "text/x-python",
   "name": "python",
   "nbconvert_exporter": "python",
   "pygments_lexer": "ipython3",
   "version": "3.12.2"
  }
 },
 "nbformat": 4,
 "nbformat_minor": 4
}
