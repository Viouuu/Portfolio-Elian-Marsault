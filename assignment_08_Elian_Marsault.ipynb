{
 "cells": [
  {
   "cell_type": "markdown",
   "metadata": {},
   "source": [
    "Please fill in your name and that of your teammate.\n",
    "\n",
    "You: Elian Marsault Benichon\n",
    "\n",
    "Teammate: Nathan Wilson Fouka"
   ]
  },
  {
   "cell_type": "markdown",
   "metadata": {},
   "source": [
    "# Introduction"
   ]
  },
  {
   "cell_type": "markdown",
   "metadata": {},
   "source": [
    "Welcome to the eighth lab. Today we have _way too many_ topics to cover to do everything by hand as usual, so I selected different depths to each topic to make sure you gain full insight and applicable experience.\n",
    "\n",
    "As you go through the exercise and you apply algorithm after algorithm, method after method, I want you to think about the actual **competence** you are accumulating over the months, both theoretical and applied. Think about it, and be confident: covering so many, so different algorithms in a single lab may sound like a challenge to the version of Past You from barely two months ago, but I believe Today's You is capable of taking on this whale of a lab and have space for more.\n",
    "\n",
    "Working with many algorithms gives me another chance to shake you out of your confidence zone with respect to _data processing_ . Basically each algorithm requires different formats, so you cannot just define the data on top and keep reusing it: you will need to re-load the dataset for each exercise, applying a different processing each time.\n",
    "Be flexible, and don't forget your train-test splits (and their correct usage) -- I should not need to mention it anymore, right? :)\n",
    "\n",
    "Good luck, have fun!"
   ]
  },
  {
   "cell_type": "markdown",
   "metadata": {},
   "source": [
    "### How to pass the lab?"
   ]
  },
  {
   "cell_type": "markdown",
   "metadata": {},
   "source": [
    "Below you find the exercise questions. Each question awarding points is numbered and states the number of points like this: **[0pt]**. To answer a question, fill the cell below with your answer (markdown for text, code for implementation). Incorrect or incomplete answers are in principle worth 0 points: to assign partial reward is only up to teacher discretion. Over-complete answers do not award extra points (though they are appreciated and will be kept under consideration). Save your work frequently! (`ctrl+s`)\n",
    "\n",
    "**You need at least 16 points (out of 24 available) to pass** (66%)."
   ]
  },
  {
   "cell_type": "markdown",
   "metadata": {},
   "source": [
    "# 1. Fundamentals"
   ]
  },
  {
   "cell_type": "markdown",
   "metadata": {},
   "source": [
    "#### 1.1 **[1pt]** Write an example (in English) of a Machine Learning application for which the Supervised Learning paradigm is not (directly) applicable."
   ]
  },
  {
   "cell_type": "markdown",
   "metadata": {},
   "source": [
    "The Supervised Learning paradigm is not directly applicable to anomaly detection when reading data streams from a sensor.  \n",
    "For example, in a factory with sensors monitoring the temperature of machines, an anomaly would be an unusual spike in temperature relative to the currently normal temperature.  \n",
    "Supervised learning needs labeled training data which we don't have in this example."
   ]
  },
  {
   "cell_type": "markdown",
   "metadata": {},
   "source": [
    "#### 1.2 **[1pt]** Write an example (in English) of a Machine Learning application for which the Unsupervised Learning paradigm is an ideal choice."
   ]
  },
  {
   "cell_type": "markdown",
   "metadata": {},
   "source": [
    "The Unsupervised Learning paradigm is an ideal choice for customer segmentation.  \n",
    "A business has data on each customer's purchase history and shopping behavior but they do not have labels that indicate to which segment they belong.  \n",
    "In this instance, unsupervised learning and clustering can be used to group customers together based on similarities."
   ]
  },
  {
   "cell_type": "markdown",
   "metadata": {},
   "source": [
    "Careful: if you used the same example for both questions above, something may not be right. These questions are meant to make you think about the _difference_ between SL and UL: there is something that is necessary for SL and ignored in UL, so an ideal SL application has that something, while an ideal UL application does not (or SL would be better suited!)."
   ]
  },
  {
   "cell_type": "markdown",
   "metadata": {},
   "source": [
    "# 2. Clustering"
   ]
  },
  {
   "cell_type": "markdown",
   "metadata": {},
   "source": [
    "#### 2.1 **[2pt]** Explain the $k$-means algorithm using a few words of your own. Particularly, state any requirements, and what the user needs to define."
   ]
  },
  {
   "cell_type": "markdown",
   "metadata": {},
   "source": [
    "- To use \"your own words\", a trick is to read the slide, decide which things you need to mention (feel free to list a few keywords), then close the slides. Now imagine speaking to a friend who has only basic technical background (aka \"rubberducking\", Google it!). Explain to this friend the things that you previously decided to mention.\n",
    "- No need to go crazy. This is a type of answer that you will need to repeat over and over, refining it over time: it cannot be perfect the first time. For example, to convince your boss to let you use a particular method at work, or to supervise someone with less knowledge in the field. It's not a right/wrong question: you need to show that you are competent, select important key points, be brief and precise.\n",
    "- As usual, copy+paste from the slides scores 0 points, while a sincere, fair try (that is not horribly wrong) will give you a pass. So don't worry too much :)"
   ]
  },
  {
   "cell_type": "markdown",
   "metadata": {},
   "source": [
    "The k-means algorithm is an approach used to group data points together based on their similarity.  \n",
    "\n",
    "First, the user needs to define $k$ data groups that will split the data in the feature space.  \n",
    "\n",
    "Then the algorithm randomly places $k$ group centers in the space and points are assigned to the closest.  \n",
    "\n",
    "Once this is done, we have multiple iterations of updating the position of the group centers based on the average distance with the points that are in the group."
   ]
  },
  {
   "cell_type": "markdown",
   "metadata": {},
   "source": [
    "For the next question, we need to understand how to evaluate a clustering algorithm. The main difference between clustering and classification is that, well, it's UL not SL: the labels are not involved in the training, and they should not be involved in the testing. So how do you test the performance of a clustering algorithm?\n",
    "\n",
    "Each mean/cluster gets a numerical identifier, the only problem is that the number does not correspond to our labels because it's assigned randomly based on initialization. The most naïve way then is to brute-force all mappings between the labels and the cluster numbers: the one that makes the most sense is the one that should be used for evaluation. Since this is orthogonal to the lecture and may take a long time to debug, here is a snippet of code that does that.\n",
    "\n",
    "Read it, understand it, play with it, and possibly improve it. Bruteforcing is rarely optimal, which is the very reason why ML exists :)  \n",
    "(note: it may be easier to understand it if you first go ahead with answering the next question first, then come back to this)"
   ]
  },
  {
   "cell_type": "code",
   "execution_count": 1,
   "metadata": {},
   "outputs": [],
   "source": [
    "%matplotlib inline\n",
    "import matplotlib.pyplot as plt\n",
    "import seaborn as sns\n",
    "import numpy as np\n",
    "import pandas as pd\n",
    "sns.set(rc={'figure.figsize':(8,6)}, style=\"whitegrid\")"
   ]
  },
  {
   "cell_type": "code",
   "execution_count": 2,
   "metadata": {},
   "outputs": [],
   "source": [
    "# Goal: convert the labels to the cluster numbers generated by k-means\n",
    "import itertools\n",
    "species_names = sns.load_dataset('iris').species.unique()\n",
    "possible_codes = itertools.permutations(range(len(species_names)))\n",
    "converters = [dict(zip(species_names, perm)) for perm in possible_codes]\n",
    "# try printing each of these variables and understand what they do\n",
    "\n",
    "def cluster_to_class(model, fn_that_counts_misclassified, x_test, y_test):\n",
    "    min_score = np.Infinity # we saw how to write a minimizer already right?\n",
    "    right_conversion = None\n",
    "    for converter in converters:\n",
    "        conv_y_test = y_test.replace(converter) # conveniently works with `dict`s\n",
    "        misclassified = fn_that_counts_misclassified(model, x_test, conv_y_test)\n",
    "        if misclassified < min_score:\n",
    "            min_score = misclassified\n",
    "            right_conversion = converter\n",
    "    return right_conversion\n",
    "\n",
    "def my_misclass_fn(model, x_test, y_test):\n",
    "    y_pred = model.predict(x_test)\n",
    "    return np.sum(y_pred != y_test)\n",
    "\n",
    "## to use this function, you will need something like this\n",
    "# right_conversion = cluster_to_class(k_means_model, my_misclass_fn, x_test, y_test)\n",
    "# conv_y_test = y_test.replace(right_conversion)\n",
    "# k_means_misclassified = my_misclass_fn(k_means_model, x_test, conv_y_test)\n",
    "\n",
    "# print(f\"Right conversion: {right_conversion}\")\n",
    "# print(f\"Misclassified: {k_means_misclassified}\")"
   ]
  },
  {
   "cell_type": "markdown",
   "metadata": {},
   "source": [
    "#### 2.2 **[3pt]** Apply the scikit-learn implementation of the $k$-means algorithm to the Iris dataset (4 features, but drop the labels for training), and print a performance score of your choice."
   ]
  },
  {
   "cell_type": "markdown",
   "metadata": {},
   "source": [
    "- **IMPORTANT:** the \"number of misclassified points\" is not an UL performance score, because UL does not see \"classes\" and thus [does not do \"classification\"](https://stackoverflow.com/a/48617825/6392246). The function `score()` will ignore the labels and print \"strange numbers\". What are those? No worries though, you know how to make your own scoring from the past labs, right?\n",
    "- This also mean that if you have points originally belonging to another class, which are however mixed in the cluster of another class (e.g. because of noise), it is correct of the algorithm to put them in the same cluster, even though you will get \"misclustered\" below. Always interpret your performance metrics! Try printing the points and the cluster centroids for example.\n",
    "\n",
    "\n",
    "- Of course you want to pass $k=3$.\n",
    "- Passing the trained `KMeans` object to `print()` shows several useful parameters and their used values (defaults unless otherwise specified).\n",
    "- After you get it to work though, why don't you try $k=2$ or $k=4$ and see what happens when you have to _guess_ $k$ (which would be the normal case in a real application).\n",
    "- Notice how $k$-means is _very_ sensitive to initialization. To get a consistently better result you may want to explore options `max_iter`, `n_jobs` and of course `init`."
   ]
  },
  {
   "cell_type": "code",
   "execution_count": 3,
   "metadata": {},
   "outputs": [
    {
     "name": "stdout",
     "output_type": "stream",
     "text": [
      "Percentage of correctly classified points: 89.33333333333333%\n"
     ]
    },
    {
     "name": "stderr",
     "output_type": "stream",
     "text": [
      "/Library/Frameworks/Python.framework/Versions/3.12/lib/python3.12/site-packages/sklearn/cluster/_kmeans.py:1416: FutureWarning: The default value of `n_init` will change from 10 to 'auto' in 1.4. Set the value of `n_init` explicitly to suppress the warning\n",
      "  super()._check_params_vs_input(X, default_n_init=10)\n"
     ]
    }
   ],
   "source": [
    "from sklearn.cluster import KMeans\n",
    "\n",
    "df = sns.load_dataset(\"iris\")\n",
    "x = df.drop(\"species\", axis=1)\n",
    "y = df[\"species\"]\n",
    "\n",
    "x_train = x\n",
    "\n",
    "k_means = KMeans(n_clusters = 3)\n",
    "k_means.fit(x_train)\n",
    "\n",
    "right_conversion = cluster_to_class(k_means, my_misclass_fn, x, y)\n",
    "conv_y = y.replace(right_conversion)\n",
    "\n",
    "k_means_correct = len(x) - my_misclass_fn(k_means, x, conv_y)\n",
    "\n",
    "k_means_accuracy = (k_means_correct / len(x)) * 100\n",
    "print(f\"Percentage of correctly classified points: {k_means_accuracy}%\")"
   ]
  },
  {
   "cell_type": "markdown",
   "metadata": {},
   "source": [
    "#### 2.3 **[1pt]** Plot the centroids learned with $k$-means on top of the data."
   ]
  },
  {
   "cell_type": "markdown",
   "metadata": {},
   "source": [
    "- To get the centroids coordinates, access attribute `cluster_centers_` of the KMeans object. Here are some options I passed to `scatterplot` for visibility (remember you can use the [double-splat](https://stackoverflow.com/questions/36901/what-does-double-star-asterisk-and-star-asterisk-do-for-parameters) to transform the dict into keyword parameters):\n",
    "```python\n",
    "kwargs = {'marker':'X', 'color':'r', 's':200, 'label':'centroids'}\n",
    "```\n",
    "- The question does not specify the details of what to plot, so it's up to you to provide a correct and useful interpretation. You learned how to make useful plots, just be confident.\n",
    "- The simplest is of course to reproduce what we saw so far: one plot, `petal_width` vs. `petal_length`. As they are the last two features, make sure to pick the corresponding coordinates from the centroids. Remember your ranges and your `transpose()` ;) \n",
    "- Even fancier: why not converting it to a DataFrame? Remember to drop the `species` column when constructing the `df`, as the centroids (learned with UL) have no species information (and thus one less column than iris): `columns=iris.columns.drop('species')`\n",
    "- After answering correctly, if you want to learn something useful and fancy, try plotting a [[PairGrid]](https://seaborn.pydata.org/generated/seaborn.PairGrid.html) that mimics a PairPlot but with added clusters off-diagonal. If you want the usual distributions on the diagonal, it is time to learn it is done with _Density Estimation_ (which is what you learned to do for Gaussians in NB), automated in Seaborn with `kdeplot()`."
   ]
  },
  {
   "cell_type": "code",
   "execution_count": 4,
   "metadata": {},
   "outputs": [
    {
     "data": {
      "image/png": "[encoded data removed]",
      "text/plain": [
       "<Figure size 800x600 with 1 Axes>"
      ]
     },
     "metadata": {},
     "output_type": "display_data"
    }
   ],
   "source": [
    "sns.scatterplot(x=x[\"petal_length\"], y=x[\"petal_width\"], \n",
    "                hue = conv_y, palette = sns.color_palette([\"pink\", \"green\", \"blue\"]))\n",
    "\n",
    "kwargs = {\"marker\":\"X\", \"color\":\"r\", \"s\":200, \"label\":\"centroids\"}\n",
    "centroids = k_means.cluster_centers_\n",
    "plt.scatter(centroids[:, 2], centroids[:, 3], **kwargs)\n",
    "\n",
    "plt.show()"
   ]
  },
  {
   "cell_type": "markdown",
   "metadata": {},
   "source": [
    "Note: this is a very basic application: while a decent knowledge of $k$-means can typically be useful in itself, the focus here is to cements your understanding of clustering, centroid, expectation maximization, and the difference between clustering and classification. For further reading, I strongly suggest you have a look at [[this very complete tutorial]](https://towardsdatascience.com/k-means-clustering-algorithm-applications-evaluation-methods-and-drawbacks-aa03e644b48a)."
   ]
  },
  {
   "cell_type": "markdown",
   "metadata": {},
   "source": [
    "#### 2.4 **[2pt]** Train a scikit-learn OneClassSVM on the _versicolor_ class of the Iris dataset, and print the number of missed outliers."
   ]
  },
  {
   "cell_type": "markdown",
   "metadata": {},
   "source": [
    "- Careful with the input: you need to train this SVM only on the subset of the train data where the species is `versicolor`. That's \"one-class\". The training should not have access to data from the other two species.\n",
    "- Also remember to drop the species column (as always) after selecting the lines with `versicolor`.\n",
    "- The test inputs should work as expected, but the test labels should be converted so that `versicolor` is `1` and the others are `-1` (because those are the model outputs for \"normal\" and \"outlier\").\n",
    "- Again, to compute the missed outliers, you cannot use `score()` or `plot_confusion_matrix()` because technically it's not a classifier. But you already made a function of the scoring code for the previous question right?"
   ]
  },
  {
   "cell_type": "code",
   "execution_count": 5,
   "metadata": {},
   "outputs": [
    {
     "name": "stdout",
     "output_type": "stream",
     "text": [
      "Percentage of correctly classified points: 80.0%\n"
     ]
    }
   ],
   "source": [
    "from sklearn.svm import OneClassSVM\n",
    "from sklearn.model_selection import train_test_split\n",
    "\n",
    "versicolor_df = df[df[\"species\"] == \"versicolor\"].copy()\n",
    "versicolor_df.loc[versicolor_df[\"species\"] == \"versicolor\", \"species\"] = 1\n",
    "\n",
    "v_train, v_test = train_test_split(versicolor_df, test_size = 0.2)\n",
    "x_train = v_train.drop(\"species\", axis = 1)\n",
    "y_train = v_train[\"species\"]\n",
    "x_test = v_test.drop(\"species\", axis = 1)\n",
    "y_test = v_test[\"species\"]\n",
    "\n",
    "one_class_svm = OneClassSVM(gamma = \"auto\")\n",
    "one_class_svm.fit(x_train)\n",
    "\n",
    "y_pred = one_class_svm.predict(x_test)\n",
    "\n",
    "missclassified_points = my_misclass_fn(one_class_svm, x_test, y_test)\n",
    "\n",
    "svm_accuracy = ((len(y_test) - missclassified_points) / len(y_test)) * 100\n",
    "print(f\"Percentage of correctly classified points: {svm_accuracy}%\")"
   ]
  },
  {
   "cell_type": "markdown",
   "metadata": {},
   "source": [
    "# 3. Compression and encoding"
   ]
  },
  {
   "cell_type": "markdown",
   "metadata": {},
   "source": [
    "There are too many topics to cover for this lab. Having to choose one to cut off from practice, I had to objectively decide to remove my favorite one: compression and encoding. The reason is that in most jobs experience in the others will be more useful, while you will still see plenty of encoding techniques over the course. And the concept of dictionary building is related to $k$-means and feature extraction anyway.\n",
    "\n",
    "On the other hand, understanding dictionaries as features, and encodings as mappings, allows for a much deeper competence and broader flexibility in the field than being stuck to only the \"big guns\" of Deep Learning for this task.\n",
    "\n",
    "So my gift to you is one of my favorite papers so far: \"The Importance of Encoding Versus Training with Sparse Coding and Vector Quantization\", from A. Coates and A. Ng [[link]](http://ai.stanford.edu/~acoates/papers/coatesng_icml_2011.pdf).\n",
    "\n",
    "If you want to learn the state of the art, in any scientific field, you need to learn to read papers. A good suggestion not to be overwhelmed, especially at the beginning while building knowledge and glossary, is to read it this way\n",
    "\n",
    "- First the abstract\n",
    "- Then think about it and read the abstract again\n",
    "- Now read the introduction, but don't fret about terms you don't understand, it's normal\n",
    "- Next read the conclusion, and make sure their claims make sense with what you read so far\n",
    "- The \"discussion\" explains how they interpreted their results and built the conclusion, which could be invaluable to understand their claims\n",
    "- If you want more detail on the \"how\", check out the \"method\" section (here called \"learning framework\")\n",
    "- The \"related work\" (sometimes \"literature review\") gives you pointers to extend your study on the field and applications\n",
    "- Do not overlook \"experimental results\", as it will give you the means to reproduce their results. And yes, chances are your thesis (especially if Master) will begin by asking you to reproduce a paper's result. Repeatability and verification (the hypothesis needs to be falsifiable) are at the very core of the scientific process.\n",
    "\n",
    "So: go at least through abstract, introduction and conclusions, and then answer the following question:"
   ]
  },
  {
   "cell_type": "markdown",
   "metadata": {},
   "source": [
    "#### 3.1 **[4pt]** In the conclusion of the paper \"The Importance of Encoding Versus Training with Sparse Coding and Vector Quantization\", which part do the authors find more effective, the encoding (i.e. decision-making) or the dictionary training (i.e. feature extraction)? Reflect on the consequences on modeling, and express your opinion on Feature Extraction and Decision Mappings."
   ]
  },
  {
   "cell_type": "markdown",
   "metadata": {},
   "source": [
    "The solution will contain no \"right\" answer, just **my** answer. It actually constitutes one the foundations of my research. Full points will be awarded to anyone (i) asserting their opinion, and (ii) justifying it with findings from the paper."
   ]
  },
  {
   "cell_type": "markdown",
   "metadata": {},
   "source": [
    "The authors concluded that the encoding part is more effective/important than the dictionary training. This is supported by these statements from the paper:  \n",
    "\"Overall, we conclude that most of the performance obtained in our results is a function of the choice of architecture and encoding [...]\"  \n",
    "\"[...] the main value of the dictionary is to provide a highly overcomplete basis on which to project the data before applying an encoder, but that the exact structure of these basis functions is less critical than the choice of encoding.\"  \n",
    "\n",
    "Their results show the importance of the encoding scheme. By using sparse coding as the encoder and random dictionaries, they were still able to achieve great efficiency/performance.  \n",
    "On the other hand, by selecting dictionaries with specific algorithms instead of randomly selecting them, the effect on the results was not as important as the choice of the encoding scheme.  \n",
    "In this regard they say: \"the main strength of sparse coding appears to arise from its non-linear encoding scheme, which was almost universally effective in our experiments—even with no training at all.\"  \n",
    "\n",
    "The consequences on modeling could be that when it comes to performance, we can obtain great and efficient results by using more simple dictionaries as long as we use a good encoding scheme. As such, to progress in the field, we could focus on this aspect going forward as they suggest at the end of the paper: \"[the choice of architecture and encoding] are key areas for further study and improvements.\"  \n",
    "\n",
    "Overall, for feature extraction and decision mappings, it seems like we should focus on the latter due to the importance of encoding. We could potentially get decent results with imperfect features and good decision mapping but struggle to replicate this outcome with good features and imperfect decision mapping."
   ]
  },
  {
   "cell_type": "markdown",
   "metadata": {},
   "source": [
    "# 4. Matrix decomposition"
   ]
  },
  {
   "cell_type": "markdown",
   "metadata": {},
   "source": [
    "#### 4.1 **[1pt]** For this data imputation exercise, use the entire Iris dataset (no split in train/test, but do drop `species`). Select the value in row index 100 column index 2, and store it in an outside variable. Then delete it from the dataset."
   ]
  },
  {
   "cell_type": "markdown",
   "metadata": {},
   "source": [
    "- To delete a value from a dataset, simply assign the \"`not a number`\" value (`np.nan`) to the corresponding element.\n",
    "- Have you tried using `drop()` to remove a column? Remember that the default axis is the rows, so you need to pass `axis=1` or `axis='columns'` to drop a column by name.\n",
    "- You can print a few rows around your target to verify everything is going as you expect."
   ]
  },
  {
   "cell_type": "code",
   "execution_count": 6,
   "metadata": {},
   "outputs": [
    {
     "name": "stdout",
     "output_type": "stream",
     "text": [
      "     sepal_length  sepal_width  petal_length  petal_width\n",
      "97            6.2          2.9           4.3          1.3\n",
      "98            5.1          2.5           3.0          1.1\n",
      "99            5.7          2.8           4.1          1.3\n",
      "100           6.3          3.3           NaN          2.5\n",
      "101           5.8          2.7           5.1          1.9\n",
      "102           7.1          3.0           5.9          2.1\n",
      "103           6.3          2.9           5.6          1.8\n"
     ]
    }
   ],
   "source": [
    "iris = sns.load_dataset(\"iris\")\n",
    "iris = iris.drop(\"species\", axis = 1)\n",
    "\n",
    "stored_value = iris.iloc[100, 2]\n",
    "iris.iloc[100, 2] = np.nan\n",
    "\n",
    "print(iris.iloc[97:104,:])"
   ]
  },
  {
   "cell_type": "markdown",
   "metadata": {},
   "source": [
    "#### 4.2 **[4pt]** Reconstruct (impute) the missing value using SVD and dimensionality reduction-based denoising. Do not use scikit-learn. Use the SVD method from `np.linalg`. Print the (absolute) difference between the original and reconstructed values."
   ]
  },
  {
   "cell_type": "markdown",
   "metadata": {},
   "source": [
    "- Ok, relax, this is not your first complex question. As usual, deconstruct the process in smaller, achievable goals, then work through them step by step.\n",
    "- The first thing you need to do is to get rid of is the \"hole\" in the data, because SVD will not work with `nan` values. Simply patch it with an average of the values above and below in the same feature. We know this is not ideal, but no worries. BTW congratulations with this you just learned the foundation of the **$k$-nearest-neighbors algorithm (KNN)**.\n",
    "- Now decompose the entire dataframe('s data matrix) using the SVD implementation in numpy's `linalg` module. Read carefully the documentation: it does not return `u`, $\\Sigma$ and `v` as expected from the lecture! Instead you get `v` as expected $n \\times n$; `s` a vector of size $n$ containing the $\\sigma$ eigenvalues (the diagonal of $\\Sigma$, remember?); and `vh` $m \\times m$ is the transposition of `v` -- saves a transpose, but remember you will need to zero a _row_ not a _column_.\n",
    "- Next you want to drop the least contributing eigenvector. Find the smallest non-zero eigenvalue, and set to zero the corresponding column in `u` and row in `vh`. The relative size also tells you how much precision will you be losing with this reduction.\n",
    "- Now you can already reconstruct the data. Remember the order of the dot products matters. Also, you need to build your $\\Sigma$. There's an example in the documentation of SVD. Importantly: $\\Sigma$ is rectangular, the eigenvalues go in the diagonal of the first \"square\" of this matrix, the rest is zeros. You can set a range of rows and columns of a numpy rectangular matrix to (the values of) a diagonal matrix created with `np.diag()`, just match the sizes.\n",
    "- Fetch the value in the target element's position in the reconstruction matrix. Has it changed w.r.t. its initial estimate? Print the difference with the original and technically you're done.\n",
    "- If you are unsatisfied with the result though, you can run the cycle a few times. Place the code written so far in a function, so you can iterate multiple calls. Remember that you need to insert the new value in the _original matrix_ , and then loop all your calls to the denoising function on this matrix. Looping on the reconstruction is a common error which may cost you a lot! With every denoising you are losing a bit of information; copying only the value you are denoising reintegrates the information in the rest of the matrix, allowing for a much more accurate result.\n",
    "- I converge (i.e. no more significant changes) to within 0.07 of the correct value in 50 iterations. I also simply save the errors (abs diff) at every iteration, then do the usual `lineplot`. Nothing new, but these sanity checks are priceless when working with ML.\n",
    "- Alternatively: what happens if you drop two columns instead of one?"
   ]
  },
  {
   "cell_type": "code",
   "execution_count": 7,
   "metadata": {},
   "outputs": [
    {
     "name": "stdout",
     "output_type": "stream",
     "text": [
      "The reconstructed value is 4.88857714854723 and the absolute difference is: 1.1114228514527698\n"
     ]
    }
   ],
   "source": [
    "def denoise(data):\n",
    "    data[100, 2] = (data[99, 2] + data[101, 2]) / 2\n",
    "    \n",
    "    u, s, vh = np.linalg.svd(data, full_matrices = False)\n",
    "    \n",
    "    min_eigenvalue = np.argmin(s)\n",
    "    u[:, min_eigenvalue] = 0\n",
    "    vh[min_eigenvalue, :] = 0\n",
    "    \n",
    "    sigma = np.zeros((u.shape[1], vh.shape[0]))\n",
    "    sigma[:len(s), :len(s)] = np.diag(s)\n",
    "    reconstructed = u.dot(sigma).dot(vh)\n",
    "    \n",
    "    return reconstructed[100, 2]\n",
    "\n",
    "iris_data = iris.values\n",
    "\n",
    "for i in range(50):\n",
    "    reconstructed_value = denoise(iris_data)\n",
    "    iris_data[100, 2] = reconstructed_value\n",
    "\n",
    "print(f\"The reconstructed value is {reconstructed_value} and the absolute difference is: {abs(stored_value - reconstructed_value)}\")"
   ]
  },
  {
   "cell_type": "markdown",
   "metadata": {},
   "source": [
    "#### 4.3 **[3pt]** Plot the entire Iris dataset (no split, keep the classes) projected into 2 dimensions using PCA. Use scikit-learn to compute the principal components."
   ]
  },
  {
   "cell_type": "markdown",
   "metadata": {},
   "source": [
    "- Yes, you need to reproduce the same picture as in the slides :)\n",
    "- You need a fresh copy of the Iris dataset, then `sklearn` requires the labels to be numeric. Do you remember the `astype('category').cat.codes` trick?\n",
    "- Check the documentation of PCA. You need to set the `n_components` parameter.\n",
    "- Projecting data on the principal components is much, much easier by using the `transform()` function.\n",
    "- For a neat one-line plot with Seaborn, convert the projected data back to a DataFrame and name the columns! Then add back the `species` column so you can use `hue` ;) and use a nice palette!"
   ]
  },
  {
   "cell_type": "code",
   "execution_count": 8,
   "metadata": {},
   "outputs": [
    {
     "data": {
      "text/plain": [
       "<Axes: xlabel='PC1', ylabel='PC2'>"
      ]
     },
     "execution_count": 8,
     "metadata": {},
     "output_type": "execute_result"
    },
    {
     "data": {
      "image/png": "[encoded data removed]",
      "text/plain": [
       "<Figure size 800x600 with 1 Axes>"
      ]
     },
     "metadata": {},
     "output_type": "display_data"
    }
   ],
   "source": [
    "from sklearn.decomposition import PCA\n",
    "\n",
    "iris_dataset = sns.load_dataset(\"iris\")\n",
    "\n",
    "iris_data = iris_dataset.drop(\"species\", axis = 1)\n",
    "iris_target = iris_dataset[\"species\"]\n",
    "\n",
    "pca = PCA(n_components = 2)\n",
    "iris_pca = pca.fit_transform(iris_data)\n",
    "\n",
    "iris_pca_df = pd.DataFrame(data = iris_pca, columns = [\"PC1\", \"PC2\"])\n",
    "iris_pca_df[\"species\"] = iris_target\n",
    "\n",
    "sns.scatterplot(data = iris_pca_df, x = \"PC1\", y = \"PC2\", \n",
    "                hue = \"species\", palette = sns.color_palette([\"pink\", \"green\", \"blue\"]))"
   ]
  },
  {
   "cell_type": "markdown",
   "metadata": {},
   "source": [
    "#### 4.4 **[2pt]** Explain (in English) the relationship between (classic) recommender systems and denoising. Then go one step further: to understand the current state of the art (not covered in the lecture), explain a recommender system in term of _mapping_."
   ]
  },
  {
   "cell_type": "markdown",
   "metadata": {},
   "source": [
    "- Modern recommender systems rarely use matrix decomposition approaches. Better results have been obtained modeling the mapping directly with flexible, generic function approximators with high generalization capabilities such as neural networks."
   ]
  },
  {
   "cell_type": "markdown",
   "metadata": {},
   "source": [
    "The classic recommender system is about denoising a matrix. Initially, we have a matrix of ratings containing users' scores about their appreciation of any content. The users are placed on the rows and the content is on the columns.  \n",
    "\n",
    "The data is sparsely collected since each user has only seen a small portion of the content relative to the total offering. Therefore the ratings matrix has some missing values that can be compared to noise.  \n",
    "\n",
    "By decomposing and reconstructing the ratings matrix, we can infer the missing ratings by denoising the matrix, hence the relationship between classic recommender systems and denoising.  \n",
    "\n",
    "For modern recommender systems, neural networks are preferred. In terms of mapping, this means that the recommender system will map the users and content features to ratings predictions."
   ]
  },
  {
   "cell_type": "markdown",
   "metadata": {},
   "source": [
    "# At the end of the exercise"
   ]
  },
  {
   "cell_type": "markdown",
   "metadata": {},
   "source": [
    "Bonus question with no points! Answering this will have no influence on your scoring, not at the assignment and not towards the exam score -- really feel free to ignore it with no consequence. But solving it will reward you with skills that will make the next lectures easier, give you real applications, and will be good practice towards the exam.\n",
    "\n",
    "The solution for this questions will not be included in the regular lab solutions pdf, but you are welcome to open a discussion on the Moodle: we will support your addressing it, and you may meet other students that choose to solve this, and find a teammate for the next assignment that is willing to do things for fun and not only for score :)"
   ]
  },
  {
   "cell_type": "markdown",
   "metadata": {},
   "source": [
    "#### BONUS **[ZERO pt]** Clustering is the core of UL. Master $k$-means with this [[tutorial]](https://towardsdatascience.com/k-means-clustering-algorithm-applications-evaluation-methods-and-drawbacks-aa03e644b48a)."
   ]
  },
  {
   "cell_type": "markdown",
   "metadata": {},
   "source": [
    "#### BONUS **[ZERO pt]** Curious about implementing SVD in Python? It's not hard, here's a good tutorial: [[link]](https://machinelearningmastery.com/singular-value-decomposition-for-machine-learning/)."
   ]
  },
  {
   "cell_type": "markdown",
   "metadata": {},
   "source": [
    "#### BONUS **[ZERO pt]** Over the years, I found that whipping out a quick PCA often makes visual analysis of complex data much clearer and with minimal investment. Follow [this tutorial](http://bebi103.caltech.edu.s3-website-us-east-1.amazonaws.com/2015/tutorials/r5_pca.html) to get some experience at it. Challenge: no copy+paste allowed, type everything: muscle memory is much more effective at retaining experience than passive study. $\\\\\\\\$ Particularly useful is the discussion at the end: learn that Dimensionality Reduction _hides_ information!! It is extremely dangerous to found your decisions on a PCA plot on a subset of axis (e.g. 2), people have lost entire careers on that! As always, each tools has its own utility and drawbacks, and you need to learn the consequences BEFORE you blindly call a library someone else wrote and bet your whole career on its output. :)"
   ]
  },
  {
   "cell_type": "markdown",
   "metadata": {},
   "source": [
    "#### BONUS **[ZERO pt]** Dictionary-based learning has tons of applications. This scikit-learn page contains a good explanation, reference to a library algorithm, an example, and even a link to the paper which published the algorithm [[link]](https://scikit-learn.org/stable/modules/generated/sklearn.decomposition.DictionaryLearning.html). I definitely suggest you have a good look at it."
   ]
  },
  {
   "cell_type": "markdown",
   "metadata": {},
   "source": [
    "#### BONUS **[ZERO pt]** Once you have a dictionary, you can learn about Sparse Coding here: [[link]](https://scikit-learn.org/stable/modules/generated/sklearn.decomposition.SparseCoder.html). If you want to see a cool application, Google for \"super resolution\": although some recent results use Neural Networks, early Sparse Coding results were used to detect congenital heart problems in newborns, where their hearts are too small for defects to be visible on normal-resolution MRI scans. *Enhance! (cit.)*"
   ]
  },
  {
   "cell_type": "markdown",
   "metadata": {},
   "source": [
    "### Final considerations"
   ]
  },
  {
   "cell_type": "markdown",
   "metadata": {},
   "source": [
    "- Supervised Learning implies the presence of a _supervisor_ in the data preparation: an omniscient expert, an *oracle* that provides the *correct* labels. Yet this is still either a human (which means limited data, human errors, time constraints, etc.), or (lately more common) another algorithm, trusted to be exact (but have you ever heard of bug-free code?). In Deep Reinforcement Learning we will see that the reward function is learned through SL; in Self-Supervised Learning and in Embeddings applications it is typically an Unsupervised Learning algorithm to provide the oracle.\n",
    "- All applications of UL stem from two concepts:\n",
    "    - **Similarity**: similar things are put together, different things are separated.\n",
    "    - **Information**: data contains redundancy and noise which can be mitigated by studying/extracting global patterns and references. What interests us is the underlying *information*, the true behavior of the underlying generating function.\n",
    "- Unsupervised Learning is almost always present one way or another in complex applications, yet rarely recognized or credited for what it is -- it's always called something like \"embedding\", \"pre-processing\", \"cleaning\", \"aggregation\" etc. Plain \"UL\" is so old school that nobody wants to say they are doing it, basing their whole fancy Deep Learning models on its output. Learn to recognize when UL is applied, and the competence you gained today will find more applications than you imagine."
   ]
  }
 ],
 "metadata": {
  "kernelspec": {
   "display_name": "Python 3 (ipykernel)",
   "language": "python",
   "name": "python3"
  },
  "language_info": {
   "codemirror_mode": {
    "name": "ipython",
    "version": 3
   },
   "file_extension": ".py",
   "mimetype": "text/x-python",
   "name": "python",
   "nbconvert_exporter": "python",
   "pygments_lexer": "ipython3",
   "version": "3.12.2"
  }
 },
 "nbformat": 4,
 "nbformat_minor": 4
}
